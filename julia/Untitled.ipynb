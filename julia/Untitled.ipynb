{
 "cells": [
  {
   "cell_type": "code",
   "execution_count": 1,
   "id": "567f2c2a-69cf-44d8-8ee5-f47f16d62b4a",
   "metadata": {},
   "outputs": [
    {
     "ename": "LoadError",
     "evalue": "ArgumentError: Package ForwardDiff not found in current path:\n- Run `import Pkg; Pkg.add(\"ForwardDiff\")` to install the ForwardDiff package.\n",
     "output_type": "error",
     "traceback": [
      "ArgumentError: Package ForwardDiff not found in current path:\n- Run `import Pkg; Pkg.add(\"ForwardDiff\")` to install the ForwardDiff package.\n",
      "",
      "Stacktrace:",
      " [1] require(into::Module, mod::Symbol)",
      "   @ Base .\\loading.jl:893"
     ]
    }
   ],
   "source": [
    "using LinearAlgebra\n",
    "import ForwardDiff as FD"
   ]
  },
  {
   "cell_type": "code",
   "execution_count": null,
   "id": "026a7129-8885-4971-9dfb-6fc0066709dc",
   "metadata": {},
   "outputs": [],
   "source": []
  }
 ],
 "metadata": {
  "kernelspec": {
   "display_name": "Julia 1.6.7",
   "language": "julia",
   "name": "julia-1.6"
  },
  "language_info": {
   "file_extension": ".jl",
   "mimetype": "application/julia",
   "name": "julia",
   "version": "1.6.7"
  }
 },
 "nbformat": 4,
 "nbformat_minor": 5
}
