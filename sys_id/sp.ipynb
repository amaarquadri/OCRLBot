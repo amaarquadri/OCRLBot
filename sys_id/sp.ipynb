{
 "cells": [
  {
   "cell_type": "code",
   "execution_count": null,
   "metadata": {},
   "source": [
    "import sys\n",
    "\n",
    "from test_dmd import perform_dmd\n",
    "\n",
    "sys.path.append('..')\n",
    "sys.path.append('../src')\n",
    "import os\n",
    "from functools import partial\n",
    "\n",
    "import numpy as np\n",
    "from src.save_dmd_data import save_data\n",
    "from test_dmd import run_qual_evals, simulate_dynamics\n",
    "\n",
    "dir_path = '../dmd_data'\n",
    "# dir_path = '../logs'\n",
    "\n",
    "# Load data\n",
    "dataset = []\n",
    "\n",
    "for file_name in os.listdir(dir_path):\n",
    "    print(f\"Loading from: {file_name}\")\n",
    "    data_path = os.path.join(dir_path, file_name)\n",
    "    assert os.path.exists(data_path), f\"Data file {data_path} does not exist\"\n",
    "    dataset.extend(save_data(data_path))"
   ],
   "outputs": []
  },
  {
   "cell_type": "code",
   "execution_count": null,
   "metadata": {},
   "source": [
    "data_points = []\n",
    "for i in range(len(dataset)):\n",
    "    data_points.append(dataset[i]['states'].shape[0])\n",
    "\n",
    "print(f\"Data stats\")\n",
    "print(f\"----------\")\n",
    "print(f\"Number of data points: {np.sum(data_points)}\")\n",
    "print(f\"Max data points in a sequence: {np.max(data_points)}\")\n",
    "print(f\"Min data points in a sequence: {np.min(data_points)}\")\n",
    "print(f\"Mean no of data points in a sequence: {np.mean(data_points)}\")\n",
    "print(f\"Median no of data points in a sequence: {np.median(data_points)}\")\n"
   ],
   "outputs": []
  },
  {
   "cell_type": "code",
   "execution_count": null,
   "metadata": {},
   "source": [
    "dynamics = perform_dmd(dataset)\n",
    "\n",
    "simulator = partial(simulate_dynamics, dynamics)\n",
    "\n",
    "data = dataset[0]\n",
    "\n",
    "# run_qual_evals(2,\n",
    "#                 data,\n",
    "#                 simulator,\n",
    "#                 save_dir=f'here',\n",
    "#                 max_traj_len=4)"
   ],
   "outputs": []
  },
  {
   "cell_type": "code",
   "execution_count": null,
   "metadata": {},
   "source": [
    "dynamics\n",
    "A = dynamics['A']\n",
    "B = dynamics['B']"
   ],
   "outputs": []
  },
  {
   "cell_type": "code",
   "execution_count": null,
   "metadata": {},
   "source": [
    "A.shape"
   ],
   "outputs": []
  },
  {
   "cell_type": "code",
   "execution_count": null,
   "metadata": {},
   "source": [
    "# from copy import deepcopy\n",
    "# dynamics\n",
    "\n",
    "# A_new = deepcopy(dynamics['A'])\n",
    "# B_new = deepcopy(dynamics['B'])"
   ],
   "outputs": []
  },
  {
   "cell_type": "code",
   "execution_count": null,
   "metadata": {},
   "source": [
    "!rm -rf A.npy\n",
    "!rm -rf B.npy"
   ],
   "outputs": []
  },
  {
   "cell_type": "code",
   "execution_count": null,
   "metadata": {},
   "source": [
    "np.save('A.npy', A)\n",
    "np.save('B.npy', B)"
   ],
   "outputs": []
  },
  {
   "cell_type": "code",
   "execution_count": null,
   "metadata": {},
   "source": [
    "!pwd"
   ],
   "outputs": []
  }
 ],
 "metadata": {
  "kernelspec": {
   "display_name": "ocrl_env",
   "language": "python",
   "name": "python3"
  },
  "language_info": {
   "codemirror_mode": {
    "name": "ipython",
    "version": 3
   },
   "file_extension": ".py",
   "mimetype": "text/x-python",
   "name": "python",
   "nbconvert_exporter": "python",
   "pygments_lexer": "ipython3",
   "version": "3.11.7"
  }
 },
 "nbformat": 4,
 "nbformat_minor": 2
}
